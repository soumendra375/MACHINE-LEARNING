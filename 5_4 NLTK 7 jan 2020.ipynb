{
 "cells": [
  {
   "cell_type": "code",
   "execution_count": 2,
   "metadata": {},
   "outputs": [],
   "source": [
    "import nltk"
   ]
  },
  {
   "cell_type": "code",
   "execution_count": 3,
   "metadata": {},
   "outputs": [
    {
     "name": "stderr",
     "output_type": "stream",
     "text": [
      "[nltk_data] Downloading package punkt to\n",
      "[nltk_data]     C:\\Users\\Parul\\AppData\\Roaming\\nltk_data...\n",
      "[nltk_data]   Package punkt is already up-to-date!\n"
     ]
    },
    {
     "data": {
      "text/plain": [
       "True"
      ]
     },
     "execution_count": 3,
     "metadata": {},
     "output_type": "execute_result"
    }
   ],
   "source": [
    "nltk.download('punkt')"
   ]
  },
  {
   "cell_type": "code",
   "execution_count": 4,
   "metadata": {},
   "outputs": [
    {
     "name": "stdout",
     "output_type": "stream",
     "text": [
      "['Hello Miss.', 'Swathi, how are you doing today?', 'Today the weather seems great, and bangalore city is awesome,what did you eat in breakfast today morning']\n"
     ]
    }
   ],
   "source": [
    "# Sentence tokenization\n",
    "from nltk.tokenize import sent_tokenize\n",
    "text=\"Hello Miss. Swathi, how are you doing today? Today the weather seems great, and bangalore city is awesome,what did you eat in breakfast today morning\"\n",
    "tokenized_text=sent_tokenize(text)\n",
    "print(tokenized_text)"
   ]
  },
  {
   "cell_type": "markdown",
   "metadata": {},
   "source": [
    "# WORD TOKENIZATION"
   ]
  },
  {
   "cell_type": "code",
   "execution_count": 5,
   "metadata": {},
   "outputs": [
    {
     "name": "stdout",
     "output_type": "stream",
     "text": [
      "['Hello', 'Miss', '.', 'Swathi', ',', 'how', 'are', 'you', 'doing', 'today', '?', 'Today', 'the', 'weather', 'seems', 'great', ',', 'and', 'bangalore', 'city', 'is', 'awesome', ',', 'what', 'did', 'you', 'eat', 'in', 'breakfast', 'today', 'morning']\n"
     ]
    }
   ],
   "source": [
    "#Word Tokenization\n",
    "from nltk.tokenize import word_tokenize\n",
    "tokenized_word=word_tokenize(text)\n",
    "print(tokenized_word)"
   ]
  },
  {
   "cell_type": "markdown",
   "metadata": {},
   "source": [
    "# CONVERTING TO LOWER CASE"
   ]
  },
  {
   "cell_type": "code",
   "execution_count": 10,
   "metadata": {},
   "outputs": [
    {
     "name": "stdout",
     "output_type": "stream",
     "text": [
      "['hello', 'miss', '.', 'swathi', ',', 'how', 'are', 'you', 'doing', 'today', '?', 'today', 'the', 'weather', 'seems', 'great', ',', 'and', 'bangalore', 'city', 'is', 'awesome', ',', 'what', 'did', 'you', 'eat', 'in', 'breakfast', 'today', 'morning']\n"
     ]
    }
   ],
   "source": [
    "#Converting to Lower case\n",
    "tokens = [w.lower () for w in tokenized_word]\n",
    "print(tokens)"
   ]
  },
  {
   "cell_type": "markdown",
   "metadata": {},
   "source": [
    "# NOISE REMOVAL OR REMOVING SPECIFIC WORDS"
   ]
  },
  {
   "cell_type": "code",
   "execution_count": 16,
   "metadata": {},
   "outputs": [],
   "source": [
    "# Noise removal or removing specific words\n",
    "not_required = ['doing']\n",
    "def noise_removal(text):\n",
    "    words = text.split()\n",
    "    final_text = [word for word in words if word not in not_required]\n",
    "    final_text = \" \".join(final_text)\n",
    "    return final_text"
   ]
  },
  {
   "cell_type": "code",
   "execution_count": 17,
   "metadata": {},
   "outputs": [
    {
     "data": {
      "text/plain": [
       "'Hello Miss. Swathi, how are you today? Today the weather seems great, and bangalore city is awesome,what did you eat in breakfast today morning'"
      ]
     },
     "execution_count": 17,
     "metadata": {},
     "output_type": "execute_result"
    }
   ],
   "source": [
    "noise_removal(text)"
   ]
  },
  {
   "cell_type": "markdown",
   "metadata": {},
   "source": [
    "# REMOVING PUNCTUATION"
   ]
  },
  {
   "cell_type": "code",
   "execution_count": 15,
   "metadata": {},
   "outputs": [
    {
     "name": "stdout",
     "output_type": "stream",
     "text": [
      "['hello', 'miss', 'swathi', 'how', 'are', 'you', 'doing', 'today', 'today', 'the', 'weather', 'seems', 'great', 'and', 'bangalore', 'city', 'is', 'awesome', 'what', 'did', 'you', 'eat', 'in', 'breakfast', 'today', 'morning']\n"
     ]
    }
   ],
   "source": [
    "words = [word for word in tokens if word.isalpha()]\n",
    "print(words)"
   ]
  },
  {
   "cell_type": "markdown",
   "metadata": {},
   "source": [
    "# STOPWORDS"
   ]
  },
  {
   "cell_type": "code",
   "execution_count": 18,
   "metadata": {},
   "outputs": [
    {
     "name": "stderr",
     "output_type": "stream",
     "text": [
      "[nltk_data] Downloading package stopwords to\n",
      "[nltk_data]     C:\\Users\\Parul\\AppData\\Roaming\\nltk_data...\n"
     ]
    },
    {
     "name": "stdout",
     "output_type": "stream",
     "text": [
      "{'of', 'does', 'me', 'those', 'once', 'our', 'am', 'are', 'or', \"haven't\", 'here', 'just', \"wouldn't\", 'what', \"should've\", 'again', 'yours', 'with', 'won', 'doesn', 'shan', 'through', 'such', 'have', 'by', 'mustn', \"weren't\", 'm', 'now', 'themselves', 'for', 'nor', 'when', 'not', 'they', 'so', 'himself', 'very', 'up', 'all', 'own', 'him', 'but', 'we', \"needn't\", 'into', 'there', \"couldn't\", 'having', 'a', 'yourselves', 'couldn', 'before', 'down', 'wasn', 'is', 'ma', 'wouldn', 'should', \"hadn't\", 'them', 'who', 'do', 'yourself', 'then', 'other', \"shan't\", 'ourselves', 'has', 'against', 'on', 'd', 'same', 'mightn', 'in', 'if', \"mustn't\", 'isn', 'which', 'out', \"you're\", 'below', 'being', 'under', \"hasn't\", 'your', \"didn't\", 'after', 't', 'off', 'from', 'needn', 'during', 'some', 'he', 'was', 'both', 'ours', 'their', 'don', \"you'd\", 'ain', 'hers', 'that', 'been', 'her', 'because', 'his', 'my', 'o', 'will', 'itself', 'and', 'theirs', 'how', 'why', 'no', \"you've\", 'its', 've', \"isn't\", 'aren', \"shouldn't\", \"wasn't\", 'while', 'whom', 'these', 'over', 'too', 'about', \"aren't\", 'it', 'were', 'most', 'than', 'where', \"that'll\", 'y', \"doesn't\", 'hadn', 'had', 'i', 'any', 'as', 'only', 'weren', 'be', \"you'll\", 'you', 'didn', 'above', 'few', 'between', \"won't\", 's', 'can', 'll', 'myself', 'haven', 'to', 'the', 'at', \"mightn't\", 'until', 'this', 'each', 'doing', 'shouldn', 'more', 'hasn', 'herself', \"it's\", 'an', 'further', 're', \"don't\", 'did', \"she's\", 'she'}\n"
     ]
    },
    {
     "name": "stderr",
     "output_type": "stream",
     "text": [
      "[nltk_data]   Package stopwords is already up-to-date!\n"
     ]
    }
   ],
   "source": [
    "nltk.download('stopwords')\n",
    "from nltk.corpus import stopwords\n",
    "stop_words=set(stopwords.words(\"english\"))\n",
    "print(stop_words)"
   ]
  },
  {
   "cell_type": "markdown",
   "metadata": {},
   "source": [
    "## WE WILL REMOVE STOPWORDS FROM OUR TEXT"
   ]
  },
  {
   "cell_type": "code",
   "execution_count": 19,
   "metadata": {},
   "outputs": [
    {
     "name": "stdout",
     "output_type": "stream",
     "text": [
      "['hello', 'miss', 'swathi', 'today', 'today', 'weather', 'seems', 'great', 'bangalore', 'city', 'awesome', 'eat', 'breakfast', 'today', 'morning']\n"
     ]
    }
   ],
   "source": [
    "words = [word for word in words if not word in stop_words]\n",
    "print(words)"
   ]
  },
  {
   "cell_type": "markdown",
   "metadata": {},
   "source": [
    "# STEMMING AND LEMMATIZATION"
   ]
  },
  {
   "cell_type": "code",
   "execution_count": 22,
   "metadata": {},
   "outputs": [
    {
     "name": "stderr",
     "output_type": "stream",
     "text": [
      "[nltk_data] Downloading package wordnet to\n",
      "[nltk_data]     C:\\Users\\Parul\\AppData\\Roaming\\nltk_data...\n",
      "[nltk_data]   Package wordnet is already up-to-date!\n"
     ]
    }
   ],
   "source": [
    "nltk.download('wordnet')\n",
    "from nltk.stem.wordnet import WordNetLemmatizer\n",
    "lem = WordNetLemmatizer()\n",
    "\n"
   ]
  },
  {
   "cell_type": "code",
   "execution_count": 24,
   "metadata": {},
   "outputs": [
    {
     "name": "stdout",
     "output_type": "stream",
     "text": [
      "Lemmatized Word: fly\n",
      "Stemmed Word: fli\n"
     ]
    }
   ],
   "source": [
    "from nltk.stem.porter import PorterStemmer\n",
    "stem = PorterStemmer()\n",
    "\n",
    "word = 'flying'\n",
    "print(\"Lemmatized Word:\", lem.lemmatize(word,\"v\"))\n",
    "print(\"Stemmed Word:\",stem.stem(word))"
   ]
  },
  {
   "cell_type": "markdown",
   "metadata": {},
   "source": []
  },
  {
   "cell_type": "code",
   "execution_count": null,
   "metadata": {},
   "outputs": [],
   "source": []
  }
 ],
 "metadata": {
  "kernelspec": {
   "display_name": "Python 3",
   "language": "python",
   "name": "python3"
  },
  "language_info": {
   "codemirror_mode": {
    "name": "ipython",
    "version": 3
   },
   "file_extension": ".py",
   "mimetype": "text/x-python",
   "name": "python",
   "nbconvert_exporter": "python",
   "pygments_lexer": "ipython3",
   "version": "3.7.3"
  }
 },
 "nbformat": 4,
 "nbformat_minor": 2
}
