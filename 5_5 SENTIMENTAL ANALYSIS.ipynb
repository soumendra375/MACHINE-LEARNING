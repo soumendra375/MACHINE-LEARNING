{
 "cells": [
  {
   "cell_type": "code",
   "execution_count": 1,
   "metadata": {},
   "outputs": [
    {
     "name": "stderr",
     "output_type": "stream",
     "text": [
      "[nltk_data] Downloading package vader_lexicon to\n",
      "[nltk_data]     C:\\Users\\Parul\\AppData\\Roaming\\nltk_data...\n",
      "[nltk_data]   Package vader_lexicon is already up-to-date!\n"
     ]
    },
    {
     "data": {
      "text/plain": [
       "True"
      ]
     },
     "execution_count": 1,
     "metadata": {},
     "output_type": "execute_result"
    }
   ],
   "source": [
    "import nltk\n",
    "from nltk.sentiment.vader import SentimentIntensityAnalyzer\n",
    "nltk.download('vader_lexicon')"
   ]
  },
  {
   "cell_type": "code",
   "execution_count": 5,
   "metadata": {},
   "outputs": [
    {
     "name": "stdout",
     "output_type": "stream",
     "text": [
      "Great place to be when you are in Bangalore.\n",
      "neg: 0.0,\n",
      "neu: 0.661,\n",
      "pos: 0.339,\n",
      "compound: 0.6249,\n",
      "The place was being renovated when I visited so the seating was limited.\n",
      "neg: 0.147,\n",
      "neu: 0.853,\n",
      "pos: 0.0,\n",
      "compound: -0.2263,\n",
      "Loved the ambience, loved the food\n",
      "neg: 0.0,\n",
      "neu: 0.339,\n",
      "pos: 0.661,\n",
      "compound: 0.8316,\n",
      "The food is delicious but not over the top.\n",
      "neg: 0.168,\n",
      "neu: 0.623,\n",
      "pos: 0.209,\n",
      "compound: 0.1184,\n",
      "Service - Little slow, probably because too many people.\n",
      "neg: 0.0,\n",
      "neu: 1.0,\n",
      "pos: 0.0,\n",
      "compound: 0.0,\n",
      "The place is not easy to locate\n",
      "neg: 0.286,\n",
      "neu: 0.714,\n",
      "pos: 0.0,\n",
      "compound: -0.3412,\n",
      "Mushroom fried rice was tasty\n",
      "neg: 0.0,\n",
      "neu: 1.0,\n",
      "pos: 0.0,\n",
      "compound: 0.0,\n"
     ]
    }
   ],
   "source": [
    "hotel_rev = [\"Great place to be when you are in Bangalore.\",\n",
    "            \"The place was being renovated when I visited so the seating was limited.\",\n",
    "            \"Loved the ambience, loved the food\",\n",
    "            \"The food is delicious but not over the top.\",\n",
    "            \"Service - Little slow, probably because too many people.\",\n",
    "            \"The place is not easy to locate\",\n",
    "            \"Mushroom fried rice was tasty\"]\n",
    "    \n",
    "sid = SentimentIntensityAnalyzer()\n",
    "for sentence in hotel_rev:\n",
    "    print(sentence)\n",
    "    ss = sid.polarity_scores(sentence)\n",
    "    for k in ss:\n",
    "        print('{0}: {1},'.format(k, ss[k]), end='')\n",
    "        print()"
   ]
  },
  {
   "cell_type": "code",
   "execution_count": null,
   "metadata": {},
   "outputs": [],
   "source": []
  }
 ],
 "metadata": {
  "kernelspec": {
   "display_name": "Python 3",
   "language": "python",
   "name": "python3"
  },
  "language_info": {
   "codemirror_mode": {
    "name": "ipython",
    "version": 3
   },
   "file_extension": ".py",
   "mimetype": "text/x-python",
   "name": "python",
   "nbconvert_exporter": "python",
   "pygments_lexer": "ipython3",
   "version": "3.7.3"
  }
 },
 "nbformat": 4,
 "nbformat_minor": 2
}
