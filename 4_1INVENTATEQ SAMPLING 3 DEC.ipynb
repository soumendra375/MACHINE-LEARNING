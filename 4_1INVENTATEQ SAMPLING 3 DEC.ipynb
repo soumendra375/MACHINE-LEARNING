{
 "cells": [
  {
   "cell_type": "code",
   "execution_count": 1,
   "metadata": {},
   "outputs": [],
   "source": [
    "import random"
   ]
  },
  {
   "cell_type": "code",
   "execution_count": 2,
   "metadata": {},
   "outputs": [
    {
     "name": "stdout",
     "output_type": "stream",
     "text": [
      "[4, 3, 2]\n"
     ]
    }
   ],
   "source": [
    "# List sampling\n",
    "myList = [1,2,3,4,5]\n",
    "print(random.sample(myList,3))"
   ]
  },
  {
   "cell_type": "code",
   "execution_count": 4,
   "metadata": {},
   "outputs": [
    {
     "name": "stdout",
     "output_type": "stream",
     "text": [
      "With tuple: ['Blue', 'Red']\n"
     ]
    }
   ],
   "source": [
    "# Tuples sampling\n",
    "myTuple = (\"Red\", \"Blue\", \"Green\")\n",
    "print(\"With tuple:\", random.sample(myTuple, 2))"
   ]
  },
  {
   "cell_type": "code",
   "execution_count": 5,
   "metadata": {},
   "outputs": [
    {
     "name": "stdout",
     "output_type": "stream",
     "text": [
      "[('Kelly', 55), ('Donald', 60)]\n"
     ]
    }
   ],
   "source": [
    "# Dict sampling\n",
    "marks_dict = {\n",
    "    \"Kelly\":55,\n",
    "    \"john\": 70,\n",
    "    \"Donald\": 60,\n",
    "    \"Lennin\": 50\n",
    "}\n",
    "print(random.sample(marks_dict.items(),2))"
   ]
  },
  {
   "cell_type": "markdown",
   "metadata": {},
   "source": [
    "## SHUFFLE"
   ]
  },
  {
   "cell_type": "code",
   "execution_count": 8,
   "metadata": {},
   "outputs": [
    {
     "name": "stdout",
     "output_type": "stream",
     "text": [
      "Original list :  [7, 14, 21, 28, 35, 42, 49, 56, 63, 70]\n",
      "List after first shuffle :  [42, 35, 63, 21, 28, 70, 14, 7, 56, 49]\n",
      "List after second shuffle : [42, 35, 21, 70, 7, 14, 28, 56, 49, 63]\n"
     ]
    }
   ],
   "source": [
    "#Shuffle\n",
    "number_list = [7, 14, 21, 28, 35, 42, 49, 56, 63, 70]\n",
    "print(\"Original list : \", number_list)\n",
    "random.shuffle(number_list) #shuffle method\n",
    "print (\"List after first shuffle : \", number_list)\n",
    "random.shuffle(number_list)\n",
    "print (\"List after second shuffle :\", number_list)"
   ]
  },
  {
   "cell_type": "markdown",
   "metadata": {},
   "source": [
    "## SEED"
   ]
  },
  {
   "cell_type": "code",
   "execution_count": 9,
   "metadata": {},
   "outputs": [
    {
     "name": "stdout",
     "output_type": "stream",
     "text": [
      "Random number with seed 30\n",
      "first -  42\n",
      "Second -  42\n",
      "Third -  42\n"
     ]
    }
   ],
   "source": [
    "print(\"Random number with seed 30\")\n",
    "random.seed( 30 )\n",
    "print (\"first - \", random.randint(25,50))\n",
    "#will generate a same random number as previous\n",
    "random.seed( 30 )\n",
    "print(\"Second - \", random.randint(25,50))\n",
    "#will generate a same random number as previous\n",
    "random.seed( 30 )\n",
    "print (\"Third - \", random.randint(25,50))"
   ]
  },
  {
   "cell_type": "markdown",
   "metadata": {},
   "source": [
    "## Sampling without replacement"
   ]
  },
  {
   "cell_type": "code",
   "execution_count": 10,
   "metadata": {},
   "outputs": [
    {
     "name": "stdout",
     "output_type": "stream",
     "text": [
      "['B', 'Y', 'R']\n"
     ]
    }
   ],
   "source": [
    "colors = [\"R\", \"G\", \"B\", \"Y\"]\n",
    "print(random.sample(colors, 3))"
   ]
  },
  {
   "cell_type": "markdown",
   "metadata": {},
   "source": [
    "## Sampling with replacement"
   ]
  },
  {
   "cell_type": "code",
   "execution_count": 11,
   "metadata": {},
   "outputs": [
    {
     "data": {
      "text/plain": [
       "['B', 'Y', 'Y']"
      ]
     },
     "execution_count": 11,
     "metadata": {},
     "output_type": "execute_result"
    }
   ],
   "source": [
    "colors = [\"R\", \"G\", \"B\", \"Y\"]\n",
    "random.choices(colors, k=3)"
   ]
  },
  {
   "cell_type": "code",
   "execution_count": null,
   "metadata": {},
   "outputs": [],
   "source": []
  }
 ],
 "metadata": {
  "kernelspec": {
   "display_name": "Python 3",
   "language": "python",
   "name": "python3"
  },
  "language_info": {
   "codemirror_mode": {
    "name": "ipython",
    "version": 3
   },
   "file_extension": ".py",
   "mimetype": "text/x-python",
   "name": "python",
   "nbconvert_exporter": "python",
   "pygments_lexer": "ipython3",
   "version": "3.7.3"
  }
 },
 "nbformat": 4,
 "nbformat_minor": 2
}
